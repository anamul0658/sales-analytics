{
 "cells": [
  {
   "cell_type": "code",
   "execution_count": null,
   "id": "f1457933",
   "metadata": {},
   "outputs": [],
   "source": [
    "import pandas as pd\n",
    "import numpy as np\n",
    "import matplotlib.pyplot as plt\n",
    "import seaborn as sns\n",
    "from datetime import datetime\n",
    "from sklearn.preprocessing import StandardScaler\n",
    "from sklearn.cluster import KMeans"
   ]
  },
  {
   "cell_type": "code",
   "execution_count": null,
   "id": "6065b462",
   "metadata": {},
   "outputs": [],
   "source": [
    "df = pd.read_csv(\"Global_Superstore2.csv\", encoding=\"latin1\")\n",
    "print(df.head())\n"
   ]
  },
  {
   "cell_type": "code",
   "execution_count": null,
   "id": "7360c8d1",
   "metadata": {},
   "outputs": [],
   "source": [
    "df = df[['Order Date', 'Customer ID', 'Sales']]"
   ]
  },
  {
   "cell_type": "code",
   "execution_count": null,
   "id": "af783bb0",
   "metadata": {},
   "outputs": [],
   "source": [
    "df['Order Date'] = pd.to_datetime(df['Order Date'])"
   ]
  },
  {
   "cell_type": "code",
   "execution_count": null,
   "id": "bc14f255",
   "metadata": {},
   "outputs": [],
   "source": [
    "latest_date = df['Order Date'].max() + pd.Timedelta(days=1)"
   ]
  },
  {
   "cell_type": "code",
   "execution_count": null,
   "id": "0c8e1f98",
   "metadata": {},
   "outputs": [],
   "source": [
    "RFM = df.groupby('Customer ID').agg({\n",
    "    'Order Date': lambda x: (latest_date - x.max()).days,   # Recency\n",
    "    'Customer ID': 'count',                                # Frequency\n",
    "    'Sales': 'sum'                                         # Monetary\n",
    "})"
   ]
  },
  {
   "cell_type": "code",
   "execution_count": null,
   "id": "1aed2827",
   "metadata": {},
   "outputs": [],
   "source": [
    "RFM.rename(columns={'Order Date': 'Recency',\n",
    "                    'Customer ID': 'Frequency',\n",
    "                    'Sales': 'Monetary'}, inplace=True)"
   ]
  },
  {
   "cell_type": "code",
   "execution_count": null,
   "id": "c96b265c",
   "metadata": {},
   "outputs": [],
   "source": [
    "print(RFM.head())"
   ]
  },
  {
   "cell_type": "code",
   "execution_count": null,
   "id": "fb10937a",
   "metadata": {},
   "outputs": [],
   "source": [
    "# 5. Standardize Data\n",
    "scaler = StandardScaler()\n",
    "rfm_scaled = scaler.fit_transform(RFM)"
   ]
  },
  {
   "cell_type": "code",
   "execution_count": null,
   "id": "df3fd528",
   "metadata": {},
   "outputs": [],
   "source": [
    "# 6. Find Optimal Number of Clusters (Elbow Method)\n",
    "wcss = []\n",
    "for k in range(1, 11):\n",
    "    kmeans = KMeans(n_clusters=k, random_state=42)\n",
    "    kmeans.fit(rfm_scaled)\n",
    "    wcss.append(kmeans.inertia_)"
   ]
  },
  {
   "cell_type": "code",
   "execution_count": null,
   "id": "9d35a33d",
   "metadata": {},
   "outputs": [],
   "source": [
    "plt.plot(range(1, 11), wcss, marker='o')\n",
    "plt.title(\"Elbow Method\")\n",
    "plt.xlabel(\"Number of clusters\")\n",
    "plt.ylabel(\"WCSS\")\n",
    "plt.show()"
   ]
  },
  {
   "cell_type": "code",
   "execution_count": null,
   "id": "65d934ef",
   "metadata": {},
   "outputs": [],
   "source": [
    "kmeans = KMeans(n_clusters=4, random_state=42)  # choose k based on elbow graph\n",
    "clusters = kmeans.fit_predict(rfm_scaled)"
   ]
  },
  {
   "cell_type": "code",
   "execution_count": null,
   "id": "0162d3e7",
   "metadata": {},
   "outputs": [],
   "source": [
    "\n",
    "RFM['Cluster'] = clusters"
   ]
  },
  {
   "cell_type": "code",
   "execution_count": null,
   "id": "10577761",
   "metadata": {},
   "outputs": [],
   "source": [
    "# 8. Analyze Clusters\n",
    "cluster_summary = RFM.groupby('Cluster').mean()\n",
    "print(cluster_summary)"
   ]
  },
  {
   "cell_type": "code",
   "execution_count": null,
   "id": "a01eba74",
   "metadata": {},
   "outputs": [],
   "source": [
    "# 9. Visualization\n",
    "plt.figure(figsize=(10,6))\n",
    "sns.scatterplot(x='Recency', y='Monetary', hue='Cluster', data=RFM, palette='Set2')\n",
    "plt.title(\"Customer Segments\")\n",
    "plt.show()"
   ]
  }
 ],
 "metadata": {
  "kernelspec": {
   "display_name": ".venv",
   "language": "python",
   "name": "python3"
  },
  "language_info": {
   "codemirror_mode": {
    "name": "ipython",
    "version": 3
   },
   "file_extension": ".py",
   "mimetype": "text/x-python",
   "name": "python",
   "nbconvert_exporter": "python",
   "pygments_lexer": "ipython3",
   "version": "3.10.2"
  }
 },
 "nbformat": 4,
 "nbformat_minor": 5
}
