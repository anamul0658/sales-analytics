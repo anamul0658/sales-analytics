{
 "cells": [
  {
   "cell_type": "code",
   "execution_count": null,
   "id": "57cdf12e",
   "metadata": {},
   "outputs": [],
   "source": [
    "pip install pandas"
   ]
  },
  {
   "cell_type": "code",
   "execution_count": null,
   "id": "b09fb9f1",
   "metadata": {},
   "outputs": [],
   "source": [
    "import pandas as pd\n",
    "\n",
    "# Load dataset\n",
    "df = pd.read_csv(\"Global_Superstore2.csv\", encoding='latin1')  # sometimes UTF-8 fails\n",
    "\n",
    "# Quick check\n",
    "print(df.head())\n",
    "print(df.info())\n",
    "print(df.describe())\n"
   ]
  },
  {
   "cell_type": "code",
   "execution_count": null,
   "id": "7bea322e",
   "metadata": {},
   "outputs": [],
   "source": [
    "df['Order Date'] = pd.to_datetime(df['Order Date'], dayfirst=True)\n",
    "df['Ship Date'] = pd.to_datetime(df['Ship Date'], dayfirst=True)"
   ]
  },
  {
   "cell_type": "code",
   "execution_count": null,
   "id": "5c7e6c11",
   "metadata": {},
   "outputs": [],
   "source": [
    "print(df.isnull().sum())\n"
   ]
  },
  {
   "cell_type": "code",
   "execution_count": null,
   "id": "5dc05236",
   "metadata": {},
   "outputs": [],
   "source": [
    "df = df.drop(columns=['Postal Code'])"
   ]
  },
  {
   "cell_type": "code",
   "execution_count": null,
   "id": "08c50242",
   "metadata": {},
   "outputs": [],
   "source": [
    "total_sales = df['Sales'].sum()\n",
    "total_profit = df['Profit'].sum()\n",
    "avg_order_value = df['Sales'].mean()\n",
    "\n",
    "print(\"Total Sales:\", total_sales)\n",
    "print(\"Total Profit:\", total_profit)\n",
    "print(\"Average Order Value:\", avg_order_value)\n"
   ]
  },
  {
   "cell_type": "code",
   "execution_count": null,
   "id": "7fe0f2bd",
   "metadata": {},
   "outputs": [],
   "source": [
    "pip install matplotlib\n"
   ]
  },
  {
   "cell_type": "code",
   "execution_count": null,
   "id": "933ea632",
   "metadata": {},
   "outputs": [],
   "source": [
    "import matplotlib.pyplot as plt\n",
    "\n",
    "monthly_sales = df.groupby(df['Order Date'].dt.to_period('M'))['Sales'].sum()\n",
    "monthly_sales.plot(kind='line', figsize=(12,6), title='Monthly Sales Trend')\n",
    "plt.ylabel('Sales')\n",
    "plt.show()"
   ]
  },
  {
   "cell_type": "code",
   "execution_count": null,
   "id": "eca8f08c",
   "metadata": {},
   "outputs": [],
   "source": [
    "top_products = df.groupby('Product Name')['Sales'].sum().sort_values(ascending=False).head(10)\n",
    "top_products.plot(kind='bar', figsize=(12,6), title='Top 10 Products by Sales')\n",
    "plt.ylabel('Sales')\n",
    "plt.show()\n",
    "\n",
    "category_sales = df.groupby('Category')['Sales'].sum()\n",
    "category_sales.plot(kind='pie', autopct='%1.1f%%', figsize=(7,7), title='Sales by Category')\n",
    "plt.show()\n"
   ]
  },
  {
   "cell_type": "code",
   "execution_count": null,
   "id": "84f2cc00",
   "metadata": {},
   "outputs": [],
   "source": [
    "pip install seaborn"
   ]
  },
  {
   "cell_type": "code",
   "execution_count": null,
   "id": "cf3438d7",
   "metadata": {},
   "outputs": [],
   "source": [
    "import seaborn as sns\n",
    "\n",
    "region_category_profit = df.pivot_table(index='Category', columns='Region', values='Profit', aggfunc='sum')\n",
    "sns.heatmap(region_category_profit, annot=True, fmt=\".0f\", cmap=\"YlGnBu\")\n",
    "plt.title(\"Profit by Category and Region\")\n",
    "plt.show()\n"
   ]
  },
  {
   "cell_type": "code",
   "execution_count": null,
   "id": "e198e89a",
   "metadata": {},
   "outputs": [],
   "source": [
    "# Group sales by month\n",
    "monthly_sales = df.groupby(df['Order Date'].dt.to_period('M'))['Sales'].sum()\n",
    "monthly_sales = monthly_sales.to_timestamp()  # convert Period to Timestamp\n",
    "\n",
    "monthly_sales.head()\n"
   ]
  },
  {
   "cell_type": "code",
   "execution_count": null,
   "id": "a3e35de5",
   "metadata": {},
   "outputs": [],
   "source": [
    "pip install prophet\n"
   ]
  },
  {
   "cell_type": "code",
   "execution_count": null,
   "id": "ad3a0c16",
   "metadata": {},
   "outputs": [],
   "source": [
    "from prophet import Prophet\n",
    "\n",
    "# Prepare data for Prophet\n",
    "prophet_df = monthly_sales.reset_index()\n",
    "prophet_df.columns = ['ds', 'y']  # Prophet requires ds (date) and y (value)\n",
    "\n",
    "# Initialize & fit\n",
    "model = Prophet()\n",
    "model.fit(prophet_df)\n",
    "\n",
    "# Future dataframe (next 12 months)\n",
    "future = model.make_future_dataframe(periods=12, freq='M')\n",
    "forecast = model.predict(future)\n",
    "\n",
    "# Plot forecast\n",
    "fig = model.plot(forecast)\n"
   ]
  },
  {
   "cell_type": "code",
   "execution_count": null,
   "id": "26dc05c8",
   "metadata": {},
   "outputs": [],
   "source": [
    "pip install statsmodels\n"
   ]
  },
  {
   "cell_type": "code",
   "execution_count": null,
   "id": "1ab6b037",
   "metadata": {},
   "outputs": [],
   "source": [
    "from statsmodels.tsa.arima.model import ARIMA\n",
    "import matplotlib.pyplot as plt\n",
    "\n",
    "# Fit ARIMA model\n",
    "model_arima = ARIMA(monthly_sales, order=(1,1,1))  # simple ARIMA(p,d,q)\n",
    "arima_fit = model_arima.fit()\n",
    "\n",
    "# Forecast next 12 months\n",
    "forecast_arima = arima_fit.forecast(steps=12)\n",
    "\n",
    "# Plot\n",
    "plt.figure(figsize=(12,6))\n",
    "plt.plot(monthly_sales, label='Historical Sales')\n",
    "plt.plot(forecast_arima.index, forecast_arima, label='ARIMA Forecast', color='red')\n",
    "plt.legend()\n",
    "plt.title(\"ARIMA Forecast\")\n",
    "plt.show()\n"
   ]
  },
  {
   "cell_type": "code",
   "execution_count": null,
   "id": "be996e6b",
   "metadata": {},
   "outputs": [],
   "source": [
    "from sklearn.metrics import mean_absolute_percentage_error, mean_squared_error\n",
    "import numpy as np\n",
    "\n",
    "# Prophet predictions (align last 12 months)\n",
    "prophet_pred = forecast.set_index('ds')['yhat'][-12:]\n",
    "actual = monthly_sales[-12:]\n",
    "\n",
    "mape_prophet = mean_absolute_percentage_error(actual, prophet_pred)\n",
    "rmse_prophet = np.sqrt(mean_squared_error(actual, prophet_pred))\n",
    "\n",
    "print(\"Prophet - MAPE:\", mape_prophet, \"RMSE:\", rmse_prophet)\n",
    "\n",
    "# ARIMA\n",
    "arima_pred = forecast_arima[:12]\n",
    "mape_arima = mean_absolute_percentage_error(actual, arima_pred)\n",
    "rmse_arima = np.sqrt(mean_squared_error(actual, arima_pred))\n",
    "\n",
    "print(\"ARIMA - MAPE:\", mape_arima, \"RMSE:\", rmse_arima)\n"
   ]
  },
  {
   "cell_type": "code",
   "execution_count": null,
   "id": "f2b200c7",
   "metadata": {},
   "outputs": [],
   "source": [
    "pip install scikit-learn\n"
   ]
  }
 ],
 "metadata": {
  "kernelspec": {
   "display_name": ".venv",
   "language": "python",
   "name": "python3"
  },
  "language_info": {
   "codemirror_mode": {
    "name": "ipython",
    "version": 3
   },
   "file_extension": ".py",
   "mimetype": "text/x-python",
   "name": "python",
   "nbconvert_exporter": "python",
   "pygments_lexer": "ipython3",
   "version": "3.10.2"
  }
 },
 "nbformat": 4,
 "nbformat_minor": 5
}
